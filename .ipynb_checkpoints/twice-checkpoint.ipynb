{
 "cells": [
  {
   "cell_type": "code",
   "execution_count": 130,
   "id": "a60dae70",
   "metadata": {},
   "outputs": [
    {
     "data": {
      "text/html": [
       "<div>\n",
       "<style scoped>\n",
       "    .dataframe tbody tr th:only-of-type {\n",
       "        vertical-align: middle;\n",
       "    }\n",
       "\n",
       "    .dataframe tbody tr th {\n",
       "        vertical-align: top;\n",
       "    }\n",
       "\n",
       "    .dataframe thead th {\n",
       "        text-align: right;\n",
       "    }\n",
       "</style>\n",
       "<table border=\"1\" class=\"dataframe\">\n",
       "  <thead>\n",
       "    <tr style=\"text-align: right;\">\n",
       "      <th></th>\n",
       "      <th>start_time</th>\n",
       "      <th>end_time</th>\n",
       "      <th>lyric</th>\n",
       "      <th>vocal1</th>\n",
       "      <th>vocal2</th>\n",
       "      <th>duration</th>\n",
       "      <th>song_name</th>\n",
       "      <th>song_year</th>\n",
       "    </tr>\n",
       "  </thead>\n",
       "  <tbody>\n",
       "    <tr>\n",
       "      <th>0</th>\n",
       "      <td>00:00:13,293</td>\n",
       "      <td>00:00:15,108</td>\n",
       "      <td>modu nareul gajigo</td>\n",
       "      <td>Nayeon</td>\n",
       "      <td>NaN</td>\n",
       "      <td>1.815</td>\n",
       "      <td>LikeOohAhh</td>\n",
       "      <td>2015</td>\n",
       "    </tr>\n",
       "    <tr>\n",
       "      <th>1</th>\n",
       "      <td>00:00:15,108</td>\n",
       "      <td>00:00:16,687</td>\n",
       "      <td>maeil gaman an dujo</td>\n",
       "      <td>Nayeon</td>\n",
       "      <td>NaN</td>\n",
       "      <td>1.579</td>\n",
       "      <td>LikeOohAhh</td>\n",
       "      <td>2015</td>\n",
       "    </tr>\n",
       "    <tr>\n",
       "      <th>2</th>\n",
       "      <td>00:00:16,687</td>\n",
       "      <td>00:00:18,327</td>\n",
       "      <td>naega neomu yeppeujo</td>\n",
       "      <td>Momo</td>\n",
       "      <td>NaN</td>\n",
       "      <td>1.640</td>\n",
       "      <td>LikeOohAhh</td>\n",
       "      <td>2015</td>\n",
       "    </tr>\n",
       "    <tr>\n",
       "      <th>3</th>\n",
       "      <td>00:00:18,327</td>\n",
       "      <td>00:00:20,116</td>\n",
       "      <td>na ttaemune da himdeuljo</td>\n",
       "      <td>Momo</td>\n",
       "      <td>NaN</td>\n",
       "      <td>1.789</td>\n",
       "      <td>LikeOohAhh</td>\n",
       "      <td>2015</td>\n",
       "    </tr>\n",
       "    <tr>\n",
       "      <th>4</th>\n",
       "      <td>00:00:20,116</td>\n",
       "      <td>00:00:21,705</td>\n",
       "      <td>eodil geotgo isseodo</td>\n",
       "      <td>Nayeon</td>\n",
       "      <td>NaN</td>\n",
       "      <td>1.589</td>\n",
       "      <td>LikeOohAhh</td>\n",
       "      <td>2015</td>\n",
       "    </tr>\n",
       "    <tr>\n",
       "      <th>...</th>\n",
       "      <td>...</td>\n",
       "      <td>...</td>\n",
       "      <td>...</td>\n",
       "      <td>...</td>\n",
       "      <td>...</td>\n",
       "      <td>...</td>\n",
       "      <td>...</td>\n",
       "      <td>...</td>\n",
       "    </tr>\n",
       "    <tr>\n",
       "      <th>1063</th>\n",
       "      <td>00:02:39,787</td>\n",
       "      <td>00:02:41,790</td>\n",
       "      <td>geurae banggeum geu mal</td>\n",
       "      <td>Jeongyeon</td>\n",
       "      <td>NaN</td>\n",
       "      <td>2.003</td>\n",
       "      <td>TalkThatTalk</td>\n",
       "      <td>2022</td>\n",
       "    </tr>\n",
       "    <tr>\n",
       "      <th>1064</th>\n",
       "      <td>00:02:41,790</td>\n",
       "      <td>00:02:44,500</td>\n",
       "      <td>Talk that talk ttak han madi</td>\n",
       "      <td>Tzuyu</td>\n",
       "      <td>NaN</td>\n",
       "      <td>2.710</td>\n",
       "      <td>TalkThatTalk</td>\n",
       "      <td>2022</td>\n",
       "    </tr>\n",
       "    <tr>\n",
       "      <th>1065</th>\n",
       "      <td>00:02:44,500</td>\n",
       "      <td>00:02:46,569</td>\n",
       "      <td>Talk that talk L-O-V-E</td>\n",
       "      <td>Tzuyu</td>\n",
       "      <td>NaN</td>\n",
       "      <td>2.069</td>\n",
       "      <td>TalkThatTalk</td>\n",
       "      <td>2022</td>\n",
       "    </tr>\n",
       "    <tr>\n",
       "      <th>1066</th>\n",
       "      <td>00:02:46,569</td>\n",
       "      <td>00:02:48,011</td>\n",
       "      <td>deullyeojweo Ooh</td>\n",
       "      <td>Nayeon</td>\n",
       "      <td>NaN</td>\n",
       "      <td>1.442</td>\n",
       "      <td>TalkThatTalk</td>\n",
       "      <td>2022</td>\n",
       "    </tr>\n",
       "    <tr>\n",
       "      <th>1067</th>\n",
       "      <td>00:02:48,011</td>\n",
       "      <td>00:02:51,285</td>\n",
       "      <td>Now now now now now yeah</td>\n",
       "      <td>Nayeon</td>\n",
       "      <td>NaN</td>\n",
       "      <td>3.274</td>\n",
       "      <td>TalkThatTalk</td>\n",
       "      <td>2022</td>\n",
       "    </tr>\n",
       "  </tbody>\n",
       "</table>\n",
       "<p>1068 rows × 8 columns</p>\n",
       "</div>"
      ],
      "text/plain": [
       "        start_time      end_time                         lyric     vocal1  \\\n",
       "0     00:00:13,293  00:00:15,108           modu nareul gajigo      Nayeon   \n",
       "1     00:00:15,108  00:00:16,687           maeil gaman an dujo     Nayeon   \n",
       "2     00:00:16,687  00:00:18,327          naega neomu yeppeujo       Momo   \n",
       "3     00:00:18,327  00:00:20,116      na ttaemune da himdeuljo       Momo   \n",
       "4     00:00:20,116  00:00:21,705          eodil geotgo isseodo     Nayeon   \n",
       "...            ...           ...                           ...        ...   \n",
       "1063  00:02:39,787  00:02:41,790       geurae banggeum geu mal  Jeongyeon   \n",
       "1064  00:02:41,790  00:02:44,500  Talk that talk ttak han madi      Tzuyu   \n",
       "1065  00:02:44,500  00:02:46,569        Talk that talk L-O-V-E      Tzuyu   \n",
       "1066  00:02:46,569  00:02:48,011              deullyeojweo Ooh     Nayeon   \n",
       "1067  00:02:48,011  00:02:51,285      Now now now now now yeah     Nayeon   \n",
       "\n",
       "     vocal2  duration     song_name  song_year  \n",
       "0       NaN     1.815    LikeOohAhh       2015  \n",
       "1       NaN     1.579    LikeOohAhh       2015  \n",
       "2       NaN     1.640    LikeOohAhh       2015  \n",
       "3       NaN     1.789    LikeOohAhh       2015  \n",
       "4       NaN     1.589    LikeOohAhh       2015  \n",
       "...     ...       ...           ...        ...  \n",
       "1063    NaN     2.003  TalkThatTalk       2022  \n",
       "1064    NaN     2.710  TalkThatTalk       2022  \n",
       "1065    NaN     2.069  TalkThatTalk       2022  \n",
       "1066    NaN     1.442  TalkThatTalk       2022  \n",
       "1067    NaN     3.274  TalkThatTalk       2022  \n",
       "\n",
       "[1068 rows x 8 columns]"
      ]
     },
     "execution_count": 130,
     "metadata": {},
     "output_type": "execute_result"
    }
   ],
   "source": [
    "import csv\n",
    "import pandas as pd\n",
    "\n",
    "df = pd.read_csv('twice.csv', encoding='cp949')\n",
    "df"
   ]
  },
  {
   "cell_type": "code",
   "execution_count": 131,
   "id": "b0c06a44",
   "metadata": {},
   "outputs": [
    {
     "name": "stdout",
     "output_type": "stream",
     "text": [
      "<class 'pandas.core.frame.DataFrame'>\n",
      "RangeIndex: 1068 entries, 0 to 1067\n",
      "Data columns (total 8 columns):\n",
      " #   Column      Non-Null Count  Dtype  \n",
      "---  ------      --------------  -----  \n",
      " 0   start_time  1068 non-null   object \n",
      " 1   end_time    1068 non-null   object \n",
      " 2   lyric       1068 non-null   object \n",
      " 3   vocal1      1068 non-null   object \n",
      " 4   vocal2      85 non-null     object \n",
      " 5   duration    1068 non-null   float64\n",
      " 6   song_name   1068 non-null   object \n",
      " 7   song_year   1068 non-null   int64  \n",
      "dtypes: float64(1), int64(1), object(6)\n",
      "memory usage: 66.9+ KB\n"
     ]
    }
   ],
   "source": [
    "df.info()"
   ]
  },
  {
   "cell_type": "markdown",
   "id": "781bd2a2",
   "metadata": {},
   "source": [
    "# 누구 파트가 가장 많을까?"
   ]
  },
  {
   "cell_type": "code",
   "execution_count": 132,
   "id": "4b704793",
   "metadata": {},
   "outputs": [
    {
     "name": "stdout",
     "output_type": "stream",
     "text": [
      "나연: 0 days 00:10:30.662000\n",
      "모모: 0 days 00:03:42.647000\n",
      "사나: 0 days 00:04:50.539000\n",
      "미나: 0 days 00:06:07.396000\n",
      "쯔위: 0 days 00:04:58.769000\n",
      "지효: 0 days 00:10:24.573000\n",
      "다현: 0 days 00:04:10.312000\n",
      "채영 0 days 00:04:19.960000\n",
      "정연 0 days 00:05:17.170000\n"
     ]
    }
   ],
   "source": [
    "df['start_time'] = pd.to_datetime(df['start_time'])\n",
    "df['end_time'] = pd.to_datetime(df['end_time'])\n",
    "df['time'] = df['end_time'] - df['start_time']\n",
    "\n",
    "df_nayeon = df[(df['vocal1'] == 'Nayeon') | (df['vocal2'] == 'Nayeon')]\n",
    "print('나연:', df_nayeon['time'].sum())\n",
    "df_momo = df[(df['vocal1'] == 'Momo') | (df['vocal2'] == 'Momo')]\n",
    "print('모모:', df_momo['time'].sum())\n",
    "df_sana = df[(df['vocal1'] == 'Sana') | (df['vocal2'] == 'Sana')]\n",
    "print('사나:', df_sana['time'].sum())\n",
    "df_mina = df[(df['vocal1'] == 'Mina') | (df['vocal2'] == 'Mina')]\n",
    "print('미나:', df_mina['time'].sum())\n",
    "df_tzuyu = df[(df['vocal1'] == 'Tzuyu') | (df['vocal2'] == 'Tzuyu')]\n",
    "print('쯔위:', df_tzuyu['time'].sum())\n",
    "df_jihyo = df[(df['vocal1'] == 'Jihyo') | (df['vocal2'] == 'Jihyo')]\n",
    "print('지효:', df_jihyo['time'].sum())\n",
    "df_dahyun = df[(df['vocal1'] == 'Dahyun') | (df['vocal2'] == 'Dahyun')]\n",
    "print('다현:', df_dahyun['time'].sum())\n",
    "df_chaeyoung = df[(df['vocal1'] == 'Chaeyoung') | (df['vocal2'] == 'Chaeyoung')]\n",
    "print('채영', df_chaeyoung['time'].sum())\n",
    "df_jeongyeon = df[(df['vocal1'] == 'Jeongyeon') | (df['vocal2'] == 'Jeongyeon')]\n",
    "print('정연', df_jeongyeon['time'].sum())"
   ]
  },
  {
   "cell_type": "code",
   "execution_count": 147,
   "id": "1ce2f835",
   "metadata": {},
   "outputs": [
    {
     "name": "stdout",
     "output_type": "stream",
     "text": [
      "                       time\n",
      "0    0 days 00:00:01.815000\n",
      "1    0 days 00:00:01.579000\n",
      "4    0 days 00:00:01.589000\n",
      "5    0 days 00:00:01.719000\n",
      "18   0 days 00:00:03.273000\n",
      "...                     ...\n",
      "1053 0 days 00:00:01.946000\n",
      "1060 0 days 00:00:01.962000\n",
      "1061 0 days 00:00:01.971000\n",
      "1066 0 days 00:00:01.442000\n",
      "1067 0 days 00:00:03.274000\n",
      "\n",
      "[201 rows x 1 columns]\n",
      "0 days 00:10:30.662000\n"
     ]
    }
   ],
   "source": [
    "# 나연\n",
    "print(df_nayeon[['time']])\n",
    "print(df_nayeon['time'].sum())"
   ]
  },
  {
   "cell_type": "code",
   "execution_count": 148,
   "id": "4fca2d56",
   "metadata": {},
   "outputs": [
    {
     "name": "stdout",
     "output_type": "stream",
     "text": [
      "                       time\n",
      "2    0 days 00:00:01.640000\n",
      "3    0 days 00:00:01.789000\n",
      "33   0 days 00:00:03.238000\n",
      "84   0 days 00:00:05.400000\n",
      "86   0 days 00:00:02.613000\n",
      "...                     ...\n",
      "1013 0 days 00:00:02.931000\n",
      "1028 0 days 00:00:01.623000\n",
      "1029 0 days 00:00:02.217000\n",
      "1058 0 days 00:00:02.081000\n",
      "1059 0 days 00:00:01.746000\n",
      "\n",
      "[97 rows x 1 columns]\n",
      "0 days 00:03:42.647000\n"
     ]
    }
   ],
   "source": [
    "# 모모\n",
    "print(df_momo[['time']])\n",
    "print(df_momo['time'].sum())"
   ]
  },
  {
   "cell_type": "code",
   "execution_count": 149,
   "id": "d2e2d91b",
   "metadata": {},
   "outputs": [
    {
     "name": "stdout",
     "output_type": "stream",
     "text": [
      "                       time\n",
      "6    0 days 00:00:02.089000\n",
      "7    0 days 00:00:01.679000\n",
      "32   0 days 00:00:03.296000\n",
      "34   0 days 00:00:01.978000\n",
      "35   0 days 00:00:01.405000\n",
      "...                     ...\n",
      "1023 0 days 00:00:01.973000\n",
      "1024 0 days 00:00:01.471000\n",
      "1043 0 days 00:00:02.782000\n",
      "1044 0 days 00:00:02.030000\n",
      "1045 0 days 00:00:01.417000\n",
      "\n",
      "[102 rows x 1 columns]\n",
      "0 days 00:04:50.539000\n"
     ]
    }
   ],
   "source": [
    "# 사나\n",
    "print(df_sana[['time']])\n",
    "print(df_sana['time'].sum())"
   ]
  },
  {
   "cell_type": "code",
   "execution_count": 150,
   "id": "fe60da70",
   "metadata": {},
   "outputs": [
    {
     "name": "stdout",
     "output_type": "stream",
     "text": [
      "                       time\n",
      "9    0 days 00:00:01.629000\n",
      "10   0 days 00:00:01.784000\n",
      "12   0 days 00:00:01.774000\n",
      "13   0 days 00:00:01.544000\n",
      "31   0 days 00:00:03.663000\n",
      "...                     ...\n",
      "1006 0 days 00:00:02.455000\n",
      "1033 0 days 00:00:02.575000\n",
      "1034 0 days 00:00:01.001000\n",
      "1035 0 days 00:00:04.682000\n",
      "1047 0 days 00:00:03.968000\n",
      "\n",
      "[115 rows x 1 columns]\n",
      "0 days 00:06:07.396000\n"
     ]
    }
   ],
   "source": [
    "# 미나\n",
    "print(df_mina[['time']])\n",
    "print(df_mina['time'].sum())"
   ]
  },
  {
   "cell_type": "code",
   "execution_count": 151,
   "id": "f5018528",
   "metadata": {},
   "outputs": [
    {
     "name": "stdout",
     "output_type": "stream",
     "text": [
      "                       time\n",
      "14   0 days 00:00:03.319000\n",
      "15   0 days 00:00:01.276000\n",
      "36   0 days 00:00:03.490000\n",
      "37   0 days 00:00:01.169000\n",
      "38   0 days 00:00:02.154000\n",
      "...                     ...\n",
      "1004 0 days 00:00:02.109000\n",
      "1014 0 days 00:00:03.793000\n",
      "1015 0 days 00:00:04.789000\n",
      "1064 0 days 00:00:02.710000\n",
      "1065 0 days 00:00:02.069000\n",
      "\n",
      "[110 rows x 1 columns]\n",
      "0 days 00:04:58.769000\n"
     ]
    }
   ],
   "source": [
    "# 쯔위\n",
    "print(df_tzuyu[['time']])\n",
    "print(df_tzuyu['time'].sum())"
   ]
  },
  {
   "cell_type": "code",
   "execution_count": 152,
   "id": "b65a7184",
   "metadata": {},
   "outputs": [
    {
     "name": "stdout",
     "output_type": "stream",
     "text": [
      "                       time\n",
      "8    0 days 00:00:03.410000\n",
      "11   0 days 00:00:03.434000\n",
      "16   0 days 00:00:02.368000\n",
      "17   0 days 00:00:03.478000\n",
      "22   0 days 00:00:03.079000\n",
      "...                     ...\n",
      "1041 0 days 00:00:01.790000\n",
      "1042 0 days 00:00:02.155000\n",
      "1048 0 days 00:00:04.083000\n",
      "1054 0 days 00:00:01.761000\n",
      "1055 0 days 00:00:02.245000\n",
      "\n",
      "[209 rows x 1 columns]\n",
      "0 days 00:10:24.573000\n"
     ]
    }
   ],
   "source": [
    "# 지효\n",
    "print(df_jihyo[['time']])\n",
    "print(df_jihyo['time'].sum())"
   ]
  },
  {
   "cell_type": "code",
   "execution_count": 153,
   "id": "fd516f9b",
   "metadata": {},
   "outputs": [
    {
     "name": "stdout",
     "output_type": "stream",
     "text": [
      "                       time\n",
      "26   0 days 00:00:02.899000\n",
      "28   0 days 00:00:02.059000\n",
      "30   0 days 00:00:03.284000\n",
      "101  0 days 00:00:03.240000\n",
      "109  0 days 00:00:02.712000\n",
      "...                     ...\n",
      "1030 0 days 00:00:01.893000\n",
      "1031 0 days 00:00:02.129000\n",
      "1032 0 days 00:00:02.097000\n",
      "1056 0 days 00:00:02.726000\n",
      "1057 0 days 00:00:01.470000\n",
      "\n",
      "[101 rows x 1 columns]\n",
      "0 days 00:04:10.312000\n"
     ]
    }
   ],
   "source": [
    "# 다현\n",
    "print(df_dahyun[['time']])\n",
    "print(df_dahyun['time'].sum())"
   ]
  },
  {
   "cell_type": "code",
   "execution_count": 154,
   "id": "90af75aa",
   "metadata": {},
   "outputs": [
    {
     "name": "stdout",
     "output_type": "stream",
     "text": [
      "                       time\n",
      "27   0 days 00:00:03.829000\n",
      "29   0 days 00:00:01.395000\n",
      "30   0 days 00:00:03.284000\n",
      "106  0 days 00:00:02.699000\n",
      "111  0 days 00:00:02.889000\n",
      "...                     ...\n",
      "1011 0 days 00:00:01.817000\n",
      "1012 0 days 00:00:02.390000\n",
      "1026 0 days 00:00:02.283000\n",
      "1027 0 days 00:00:01.974000\n",
      "1049 0 days 00:00:03.805000\n",
      "\n",
      "[108 rows x 1 columns]\n",
      "0 days 00:04:19.960000\n"
     ]
    }
   ],
   "source": [
    "# 채영\n",
    "print(df_chaeyoung[['time']])\n",
    "print(df_chaeyoung['time'].sum())"
   ]
  },
  {
   "cell_type": "code",
   "execution_count": 155,
   "id": "59a6ceb4",
   "metadata": {},
   "outputs": [
    {
     "name": "stdout",
     "output_type": "stream",
     "text": [
      "                       time\n",
      "52   0 days 00:00:03.614000\n",
      "53   0 days 00:00:03.993000\n",
      "54   0 days 00:00:03.420000\n",
      "55   0 days 00:00:01.869000\n",
      "89   0 days 00:00:02.832000\n",
      "...                     ...\n",
      "1036 0 days 00:00:02.341000\n",
      "1037 0 days 00:00:01.697000\n",
      "1038 0 days 00:00:02.437000\n",
      "1062 0 days 00:00:02.025000\n",
      "1063 0 days 00:00:02.003000\n",
      "\n",
      "[108 rows x 1 columns]\n",
      "0 days 00:05:17.170000\n"
     ]
    }
   ],
   "source": [
    "# 정연\n",
    "print(df_jeongyeon[['time']])\n",
    "print(df_jeongyeon['time'].sum())"
   ]
  },
  {
   "cell_type": "code",
   "execution_count": null,
   "id": "de879088",
   "metadata": {},
   "outputs": [],
   "source": []
  }
 ],
 "metadata": {
  "kernelspec": {
   "display_name": "Python 3 (ipykernel)",
   "language": "python",
   "name": "python3"
  },
  "language_info": {
   "codemirror_mode": {
    "name": "ipython",
    "version": 3
   },
   "file_extension": ".py",
   "mimetype": "text/x-python",
   "name": "python",
   "nbconvert_exporter": "python",
   "pygments_lexer": "ipython3",
   "version": "3.10.2"
  }
 },
 "nbformat": 4,
 "nbformat_minor": 5
}
